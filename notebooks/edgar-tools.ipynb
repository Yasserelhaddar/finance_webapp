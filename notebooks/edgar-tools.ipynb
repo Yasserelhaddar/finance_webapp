{
 "cells": [
  {
   "cell_type": "code",
   "execution_count": 2,
   "metadata": {},
   "outputs": [
    {
     "data": {
      "text/html": [
       "<pre style=\"white-space:pre;overflow-x:auto;line-height:normal;font-family:Menlo,'DejaVu Sans Mono',consolas,'Courier New',monospace\"><span style=\"color: #7fbfbf; text-decoration-color: #7fbfbf\">[22:38:07] </span><span style=\"color: #000080; text-decoration-color: #000080\">INFO    </span> Identity of the Edgar REST client set to <span style=\"font-weight: bold\">[</span>Yasser ElHaddar yasserelhaddar@gmail.com<span style=\"font-weight: bold\">]</span> <a href=\"file:///home/yasser/miniconda3/envs/SM_env/lib/python3.8/site-packages/edgar/core.py\" target=\"_blank\"><span style=\"color: #7f7f7f; text-decoration-color: #7f7f7f\">core.py</span></a><span style=\"color: #7f7f7f; text-decoration-color: #7f7f7f\">:</span><a href=\"file:///home/yasser/miniconda3/envs/SM_env/lib/python3.8/site-packages/edgar/core.py#154\" target=\"_blank\"><span style=\"color: #7f7f7f; text-decoration-color: #7f7f7f\">154</span></a>\n",
       "</pre>\n"
      ],
      "text/plain": [
       "\u001b[2;36m[22:38:07]\u001b[0m\u001b[2;36m \u001b[0m\u001b[34mINFO    \u001b[0m Identity of the Edgar REST client set to \u001b[1m[\u001b[0mYasser ElHaddar yasserelhaddar@gmail.com\u001b[1m]\u001b[0m \u001b]8;id=399915;file:///home/yasser/miniconda3/envs/SM_env/lib/python3.8/site-packages/edgar/core.py\u001b\\\u001b[2mcore.py\u001b[0m\u001b]8;;\u001b\\\u001b[2m:\u001b[0m\u001b]8;id=677799;file:///home/yasser/miniconda3/envs/SM_env/lib/python3.8/site-packages/edgar/core.py#154\u001b\\\u001b[2m154\u001b[0m\u001b]8;;\u001b\\\n"
      ]
     },
     "metadata": {},
     "output_type": "display_data"
    }
   ],
   "source": [
    "from edgar import *\n",
    "\n",
    "set_identity(\"FirstName LastName Email\")\n"
   ]
  },
  {
   "cell_type": "code",
   "execution_count": 3,
   "metadata": {},
   "outputs": [],
   "source": [
    "CompanyTicker = \"MSFT\"\n",
    "StartDate = \"2000-01-01\"\n",
    "EndDate = \"2020-01-01\"\n",
    "FillingType = \"10-Q\""
   ]
  },
  {
   "cell_type": "code",
   "execution_count": 52,
   "metadata": {},
   "outputs": [],
   "source": [
    "filings= Company(CompanyTicker).get_filings(form=FillingType)"
   ]
  },
  {
   "cell_type": "code",
   "execution_count": 31,
   "metadata": {},
   "outputs": [],
   "source": [
    "filing_obj = Company(CompanyTicker).get_filings(form=FillingType).filter(date=f\"{StartDate}:{EndDate}\")[0].obj()\n",
    "filing_text = Company(CompanyTicker).get_filings(form=FillingType).filter(date=f\"{StartDate}:{EndDate}\")[0].text()\n",
    "\n",
    "if FillingType == \"10-K\":\n",
    "    balance_sheet = filing_obj.financials.balance_sheet.to_dataframe()\n",
    "    cash_flow_statement = filing_obj.financials.cash_flow_statement.to_dataframe()\n",
    "    income_statement = filing_obj.financials.income_statement.to_dataframe()\n",
    "\n"
   ]
  },
  {
   "cell_type": "code",
   "execution_count": 4,
   "metadata": {},
   "outputs": [
    {
     "name": "stdout",
     "output_type": "stream",
     "text": [
      "['Item 1', 'Item 2', 'Item 3', 'Item 4', 'Item 1A', 'Item 6']\n",
      "['Item 1', 'Item 2', 'Item 3', 'Item 4', 'Item 1A', 'Item 6']\n",
      "['Item 1', 'Item 2', 'Item 3', 'Item 4', 'Item 1A', 'Item 6']\n"
     ]
    },
    {
     "ename": "KeyboardInterrupt",
     "evalue": "",
     "output_type": "error",
     "traceback": [
      "\u001b[0;31m---------------------------------------------------------------------------\u001b[0m",
      "\u001b[0;31mKeyboardInterrupt\u001b[0m                         Traceback (most recent call last)",
      "Cell \u001b[0;32mIn[4], line 2\u001b[0m\n\u001b[1;32m      1\u001b[0m \u001b[38;5;28;01mfor\u001b[39;00m item \u001b[38;5;129;01min\u001b[39;00m Company(CompanyTicker)\u001b[38;5;241m.\u001b[39mget_filings(form\u001b[38;5;241m=\u001b[39mFillingType)\u001b[38;5;241m.\u001b[39mfilter(date\u001b[38;5;241m=\u001b[39m\u001b[38;5;124mf\u001b[39m\u001b[38;5;124m\"\u001b[39m\u001b[38;5;132;01m{\u001b[39;00mStartDate\u001b[38;5;132;01m}\u001b[39;00m\u001b[38;5;124m:\u001b[39m\u001b[38;5;132;01m{\u001b[39;00mEndDate\u001b[38;5;132;01m}\u001b[39;00m\u001b[38;5;124m\"\u001b[39m):\n\u001b[0;32m----> 2\u001b[0m     \u001b[38;5;28mprint\u001b[39m(\u001b[43mitem\u001b[49m\u001b[38;5;241;43m.\u001b[39;49m\u001b[43mobj\u001b[49m\u001b[43m(\u001b[49m\u001b[43m)\u001b[49m\u001b[38;5;241;43m.\u001b[39;49m\u001b[43mitems\u001b[49m)\n",
      "File \u001b[0;32m~/miniconda3/envs/SM_env/lib/python3.8/site-packages/edgar/company_reports.py:73\u001b[0m, in \u001b[0;36mCompanyReport.items\u001b[0;34m(self)\u001b[0m\n\u001b[1;32m     71\u001b[0m \u001b[39m@property\u001b[39m\n\u001b[1;32m     72\u001b[0m \u001b[39mdef\u001b[39;00m \u001b[39mitems\u001b[39m(\u001b[39mself\u001b[39m) \u001b[39m-\u001b[39m\u001b[39m>\u001b[39m List[\u001b[39mstr\u001b[39m]:\n\u001b[0;32m---> 73\u001b[0m     \u001b[39mreturn\u001b[39;00m \u001b[39mself\u001b[39;49m\u001b[39m.\u001b[39;49mchunked_document\u001b[39m.\u001b[39mlist_items()\n",
      "File \u001b[0;32m~/miniconda3/envs/SM_env/lib/python3.8/site-packages/edgar/company_reports.py:65\u001b[0m, in \u001b[0;36mCompanyReport.chunked_document\u001b[0;34m(self)\u001b[0m\n\u001b[1;32m     62\u001b[0m \u001b[39m@property\u001b[39m\n\u001b[1;32m     63\u001b[0m \u001b[39m@lru_cache\u001b[39m(maxsize\u001b[39m=\u001b[39m\u001b[39m1\u001b[39m)\n\u001b[1;32m     64\u001b[0m \u001b[39mdef\u001b[39;00m \u001b[39mchunked_document\u001b[39m(\u001b[39mself\u001b[39m):\n\u001b[0;32m---> 65\u001b[0m     \u001b[39mreturn\u001b[39;00m ChunkedDocument(\u001b[39mself\u001b[39;49m\u001b[39m.\u001b[39;49m_filing\u001b[39m.\u001b[39;49mhtml())\n",
      "File \u001b[0;32m~/miniconda3/envs/SM_env/lib/python3.8/site-packages/edgar/htmltools.py:410\u001b[0m, in \u001b[0;36mChunkedDocument.__init__\u001b[0;34m(self, html, chunk_fn)\u001b[0m\n\u001b[1;32m    403\u001b[0m \u001b[39mdef\u001b[39;00m \u001b[39m__init__\u001b[39m(\u001b[39mself\u001b[39m,\n\u001b[1;32m    404\u001b[0m              html: \u001b[39mstr\u001b[39m,\n\u001b[1;32m    405\u001b[0m              chunk_fn: Callable[[List], pd\u001b[39m.\u001b[39mDataFrame] \u001b[39m=\u001b[39m chunks2df):\n\u001b[1;32m    406\u001b[0m \u001b[39m    \u001b[39m\u001b[39m\"\"\"\u001b[39;00m\n\u001b[1;32m    407\u001b[0m \u001b[39m    :param html: The filing html\u001b[39;00m\n\u001b[1;32m    408\u001b[0m \u001b[39m    :param chunk_fn: A function that converts the chunks to a dataframe\u001b[39;00m\n\u001b[1;32m    409\u001b[0m \u001b[39m    \"\"\"\u001b[39;00m\n\u001b[0;32m--> 410\u001b[0m     \u001b[39mself\u001b[39m\u001b[39m.\u001b[39mchunks \u001b[39m=\u001b[39m chunk(html)\n\u001b[1;32m    411\u001b[0m     \u001b[39mself\u001b[39m\u001b[39m.\u001b[39m_chunked_data \u001b[39m=\u001b[39m chunk_fn(\u001b[39mself\u001b[39m\u001b[39m.\u001b[39mchunks)\n\u001b[1;32m    412\u001b[0m     \u001b[39mself\u001b[39m\u001b[39m.\u001b[39mchunk_fn \u001b[39m=\u001b[39m chunk_fn\n",
      "File \u001b[0;32m~/miniconda3/envs/SM_env/lib/python3.8/site-packages/edgar/htmltools.py:170\u001b[0m, in \u001b[0;36mchunk\u001b[0;34m(html)\u001b[0m\n\u001b[1;32m    168\u001b[0m \u001b[39m@lru_cache\u001b[39m(maxsize\u001b[39m=\u001b[39m\u001b[39m8\u001b[39m)\n\u001b[1;32m    169\u001b[0m \u001b[39mdef\u001b[39;00m \u001b[39mchunk\u001b[39m(html: \u001b[39mstr\u001b[39m):\n\u001b[0;32m--> 170\u001b[0m     document \u001b[39m=\u001b[39m HtmlDocument\u001b[39m.\u001b[39;49mfrom_html(html)\n\u001b[1;32m    171\u001b[0m     \u001b[39mreturn\u001b[39;00m \u001b[39mlist\u001b[39m(document\u001b[39m.\u001b[39mgenerate_chunks())\n",
      "File \u001b[0;32m~/miniconda3/envs/SM_env/lib/python3.8/site-packages/edgar/documents.py:404\u001b[0m, in \u001b[0;36mHtmlDocument.from_html\u001b[0;34m(cls, html)\u001b[0m\n\u001b[1;32m    402\u001b[0m \u001b[39m@classmethod\u001b[39m\n\u001b[1;32m    403\u001b[0m \u001b[39mdef\u001b[39;00m \u001b[39mfrom_html\u001b[39m(\u001b[39mcls\u001b[39m, html: \u001b[39mstr\u001b[39m):\n\u001b[0;32m--> 404\u001b[0m     root: Tag \u001b[39m=\u001b[39m \u001b[39mcls\u001b[39;49m\u001b[39m.\u001b[39;49mget_root(html)\n\u001b[1;32m    405\u001b[0m     data \u001b[39m=\u001b[39m \u001b[39mcls\u001b[39m\u001b[39m.\u001b[39mextract_data(root)\n\u001b[1;32m    406\u001b[0m     blocks: List[Block] \u001b[39m=\u001b[39m \u001b[39mcls\u001b[39m\u001b[39m.\u001b[39mextract_text(root)\n",
      "File \u001b[0;32m~/miniconda3/envs/SM_env/lib/python3.8/site-packages/edgar/documents.py:396\u001b[0m, in \u001b[0;36mHtmlDocument.get_root\u001b[0;34m(cls, html)\u001b[0m\n\u001b[1;32m    393\u001b[0m \u001b[39mif\u001b[39;00m \u001b[39m\"\u001b[39m\u001b[39m<TEXT>\u001b[39m\u001b[39m\"\u001b[39m \u001b[39min\u001b[39;00m html[:\u001b[39m500\u001b[39m]:\n\u001b[1;32m    394\u001b[0m     html \u001b[39m=\u001b[39m get_text_between_tags(html, \u001b[39m'\u001b[39m\u001b[39mTEXT\u001b[39m\u001b[39m'\u001b[39m)\n\u001b[0;32m--> 396\u001b[0m soup \u001b[39m=\u001b[39m BeautifulSoup(html, features\u001b[39m=\u001b[39;49m\u001b[39m'\u001b[39;49m\u001b[39mlxml\u001b[39;49m\u001b[39m'\u001b[39;49m)\n\u001b[1;32m    397\u001b[0m \u001b[39m# Cleanup the soup before extracting text (including removing comments)\u001b[39;00m\n\u001b[1;32m    398\u001b[0m fixup_soup(soup)\n",
      "File \u001b[0;32m~/miniconda3/envs/SM_env/lib/python3.8/site-packages/bs4/__init__.py:335\u001b[0m, in \u001b[0;36mBeautifulSoup.__init__\u001b[0;34m(self, markup, features, builder, parse_only, from_encoding, exclude_encodings, element_classes, **kwargs)\u001b[0m\n\u001b[1;32m    333\u001b[0m \u001b[39mself\u001b[39m\u001b[39m.\u001b[39mbuilder\u001b[39m.\u001b[39minitialize_soup(\u001b[39mself\u001b[39m)\n\u001b[1;32m    334\u001b[0m \u001b[39mtry\u001b[39;00m:\n\u001b[0;32m--> 335\u001b[0m     \u001b[39mself\u001b[39;49m\u001b[39m.\u001b[39;49m_feed()\n\u001b[1;32m    336\u001b[0m     success \u001b[39m=\u001b[39m \u001b[39mTrue\u001b[39;00m\n\u001b[1;32m    337\u001b[0m     \u001b[39mbreak\u001b[39;00m\n",
      "File \u001b[0;32m~/miniconda3/envs/SM_env/lib/python3.8/site-packages/bs4/__init__.py:478\u001b[0m, in \u001b[0;36mBeautifulSoup._feed\u001b[0;34m(self)\u001b[0m\n\u001b[1;32m    475\u001b[0m \u001b[39m# Convert the document to Unicode.\u001b[39;00m\n\u001b[1;32m    476\u001b[0m \u001b[39mself\u001b[39m\u001b[39m.\u001b[39mbuilder\u001b[39m.\u001b[39mreset()\n\u001b[0;32m--> 478\u001b[0m \u001b[39mself\u001b[39;49m\u001b[39m.\u001b[39;49mbuilder\u001b[39m.\u001b[39;49mfeed(\u001b[39mself\u001b[39;49m\u001b[39m.\u001b[39;49mmarkup)\n\u001b[1;32m    479\u001b[0m \u001b[39m# Close out any unfinished strings and close all the open tags.\u001b[39;00m\n\u001b[1;32m    480\u001b[0m \u001b[39mself\u001b[39m\u001b[39m.\u001b[39mendData()\n",
      "File \u001b[0;32m~/miniconda3/envs/SM_env/lib/python3.8/site-packages/bs4/builder/_lxml.py:380\u001b[0m, in \u001b[0;36mLXMLTreeBuilder.feed\u001b[0;34m(self, markup)\u001b[0m\n\u001b[1;32m    378\u001b[0m \u001b[39mtry\u001b[39;00m:\n\u001b[1;32m    379\u001b[0m     \u001b[39mself\u001b[39m\u001b[39m.\u001b[39mparser \u001b[39m=\u001b[39m \u001b[39mself\u001b[39m\u001b[39m.\u001b[39mparser_for(encoding)\n\u001b[0;32m--> 380\u001b[0m     \u001b[39mself\u001b[39;49m\u001b[39m.\u001b[39;49mparser\u001b[39m.\u001b[39;49mfeed(markup)\n\u001b[1;32m    381\u001b[0m     \u001b[39mself\u001b[39m\u001b[39m.\u001b[39mparser\u001b[39m.\u001b[39mclose()\n\u001b[1;32m    382\u001b[0m \u001b[39mexcept\u001b[39;00m (\u001b[39mUnicodeDecodeError\u001b[39;00m, \u001b[39mLookupError\u001b[39;00m, etree\u001b[39m.\u001b[39mParserError) \u001b[39mas\u001b[39;00m e:\n",
      "File \u001b[0;32msrc/lxml/parser.pxi:1331\u001b[0m, in \u001b[0;36mlxml.etree._FeedParser.feed\u001b[0;34m()\u001b[0m\n",
      "File \u001b[0;32msrc/lxml/parser.pxi:1451\u001b[0m, in \u001b[0;36mlxml.etree._FeedParser.feed\u001b[0;34m()\u001b[0m\n",
      "File \u001b[0;32msrc/lxml/parsertarget.pxi:161\u001b[0m, in \u001b[0;36mlxml.etree._TargetParserContext._handleParseResult\u001b[0;34m()\u001b[0m\n",
      "File \u001b[0;32msrc/lxml/parsertarget.pxi:156\u001b[0m, in \u001b[0;36mlxml.etree._TargetParserContext._handleParseResult\u001b[0;34m()\u001b[0m\n",
      "File \u001b[0;32msrc/lxml/etree.pyx:334\u001b[0m, in \u001b[0;36mlxml.etree._ExceptionContext._raise_if_stored\u001b[0;34m()\u001b[0m\n",
      "File \u001b[0;32msrc/lxml/saxparser.pxi:530\u001b[0m, in \u001b[0;36mlxml.etree._handleSaxEndNoNs\u001b[0;34m()\u001b[0m\n",
      "File \u001b[0;32msrc/lxml/parsertarget.pxi:99\u001b[0m, in \u001b[0;36mlxml.etree._PythonSaxParserTarget._handleSaxEnd\u001b[0;34m()\u001b[0m\n",
      "File \u001b[0;32m~/miniconda3/envs/SM_env/lib/python3.8/site-packages/bs4/builder/_lxml.py:327\u001b[0m, in \u001b[0;36mLXMLTreeBuilderForXML.end\u001b[0;34m(self, name)\u001b[0m\n\u001b[1;32m    325\u001b[0m             nsprefix \u001b[39m=\u001b[39m inverted_nsmap[namespace]\n\u001b[1;32m    326\u001b[0m             \u001b[39mbreak\u001b[39;00m\n\u001b[0;32m--> 327\u001b[0m \u001b[39mself\u001b[39;49m\u001b[39m.\u001b[39;49msoup\u001b[39m.\u001b[39;49mhandle_endtag(name, nsprefix)\n\u001b[1;32m    328\u001b[0m \u001b[39mif\u001b[39;00m \u001b[39mlen\u001b[39m(\u001b[39mself\u001b[39m\u001b[39m.\u001b[39mnsmaps) \u001b[39m>\u001b[39m \u001b[39m1\u001b[39m:\n\u001b[1;32m    329\u001b[0m     \u001b[39m# This tag, or one of its parents, introduced a namespace\u001b[39;00m\n\u001b[1;32m    330\u001b[0m     \u001b[39m# mapping, so pop it off the stack.\u001b[39;00m\n\u001b[1;32m    331\u001b[0m     out_of_scope_nsmap \u001b[39m=\u001b[39m \u001b[39mself\u001b[39m\u001b[39m.\u001b[39mnsmaps\u001b[39m.\u001b[39mpop()\n",
      "File \u001b[0;32m~/miniconda3/envs/SM_env/lib/python3.8/site-packages/bs4/__init__.py:771\u001b[0m, in \u001b[0;36mBeautifulSoup.handle_endtag\u001b[0;34m(self, name, nsprefix)\u001b[0m\n\u001b[1;32m    769\u001b[0m \u001b[39m#print(\"End tag: \" + name)\u001b[39;00m\n\u001b[1;32m    770\u001b[0m \u001b[39mself\u001b[39m\u001b[39m.\u001b[39mendData()\n\u001b[0;32m--> 771\u001b[0m \u001b[39mself\u001b[39;49m\u001b[39m.\u001b[39;49m_popToTag(name, nsprefix)\n",
      "File \u001b[0;32m~/miniconda3/envs/SM_env/lib/python3.8/site-packages/bs4/__init__.py:709\u001b[0m, in \u001b[0;36mBeautifulSoup._popToTag\u001b[0;34m(self, name, nsprefix, inclusivePop)\u001b[0m\n\u001b[1;32m    705\u001b[0m     \u001b[39mreturn\u001b[39;00m\n\u001b[1;32m    707\u001b[0m most_recently_popped \u001b[39m=\u001b[39m \u001b[39mNone\u001b[39;00m\n\u001b[0;32m--> 709\u001b[0m stack_size \u001b[39m=\u001b[39m \u001b[39mlen\u001b[39;49m(\u001b[39mself\u001b[39;49m\u001b[39m.\u001b[39;49mtagStack)\n\u001b[1;32m    710\u001b[0m \u001b[39mfor\u001b[39;00m i \u001b[39min\u001b[39;00m \u001b[39mrange\u001b[39m(stack_size \u001b[39m-\u001b[39m \u001b[39m1\u001b[39m, \u001b[39m0\u001b[39m, \u001b[39m-\u001b[39m\u001b[39m1\u001b[39m):\n\u001b[1;32m    711\u001b[0m     \u001b[39mif\u001b[39;00m \u001b[39mnot\u001b[39;00m \u001b[39mself\u001b[39m\u001b[39m.\u001b[39mopen_tag_counter\u001b[39m.\u001b[39mget(name):\n",
      "\u001b[0;31mKeyboardInterrupt\u001b[0m: "
     ]
    }
   ],
   "source": [
    "for item in Company(CompanyTicker).get_filings(form=FillingType).filter(date=f\"{StartDate}:{EndDate}\"):\n",
    "    print(item.obj().items)"
   ]
  }
 ],
 "metadata": {
  "kernelspec": {
   "display_name": "Python 3.8.18 ('SM_env')",
   "language": "python",
   "name": "python3"
  },
  "language_info": {
   "codemirror_mode": {
    "name": "ipython",
    "version": 3
   },
   "file_extension": ".py",
   "mimetype": "text/x-python",
   "name": "python",
   "nbconvert_exporter": "python",
   "pygments_lexer": "ipython3",
   "version": "3.8.18"
  },
  "orig_nbformat": 4,
  "vscode": {
   "interpreter": {
    "hash": "33a8b872fd2077228cbd0a8e9c1c4ddd42c8843b8a419149e9a4538ff9856464"
   }
  }
 },
 "nbformat": 4,
 "nbformat_minor": 2
}
